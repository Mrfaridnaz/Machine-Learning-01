{
 "cells": [
  {
   "cell_type": "code",
   "execution_count": 62,
   "id": "480410b3",
   "metadata": {},
   "outputs": [],
   "source": [
    "from sklearn.datasets import make_regression\n",
    "import matplotlib.pyplot as plt\n",
    "import numpy as np\n",
    "from sklearn.model_selection import cross_val_score"
   ]
  },
  {
   "cell_type": "code",
   "execution_count": 63,
   "id": "a720e496",
   "metadata": {},
   "outputs": [],
   "source": [
    "x,y = make_regression(n_samples=100, n_features=1, n_informative=1, n_targets=1,noise=20)"
   ]
  },
  {
   "cell_type": "code",
   "execution_count": 64,
   "id": "623ddc39",
   "metadata": {},
   "outputs": [
    {
     "data": {
      "text/plain": [
       "<matplotlib.collections.PathCollection at 0x15fb2bd5240>"
      ]
     },
     "execution_count": 64,
     "metadata": {},
     "output_type": "execute_result"
    },
    {
     "data": {
      "image/png": "[encoded data removed]",
      "text/plain": [
       "<Figure size 640x480 with 1 Axes>"
      ]
     },
     "metadata": {},
     "output_type": "display_data"
    }
   ],
   "source": [
    "plt.scatter(x,y)"
   ]
  },
  {
   "cell_type": "code",
   "execution_count": 65,
   "id": "1c75b68c",
   "metadata": {},
   "outputs": [],
   "source": [
    "from sklearn.linear_model import LinearRegression"
   ]
  },
  {
   "cell_type": "code",
   "execution_count": 66,
   "id": "7f55ab93",
   "metadata": {},
   "outputs": [],
   "source": [
    "lr = LinearRegression()"
   ]
  },
  {
   "cell_type": "code",
   "execution_count": 67,
   "id": "518b86c3",
   "metadata": {},
   "outputs": [
    {
     "name": "stdout",
     "output_type": "stream",
     "text": [
      "[22.07930926]\n",
      "2.8127516981587997\n"
     ]
    }
   ],
   "source": [
    "lr.fit(x,y)\n",
    "print(lr.coef_)\n",
    "print(lr.intercept_)"
   ]
  },
  {
   "cell_type": "code",
   "execution_count": null,
   "id": "a8e34d36",
   "metadata": {},
   "outputs": [],
   "source": [
    "We have fount the coef_ and intercept_ from Linear Regtession."
   ]
  },
  {
   "cell_type": "code",
   "execution_count": null,
   "id": "181b121a",
   "metadata": {},
   "outputs": [],
   "source": []
  },
  {
   "cell_type": "code",
   "execution_count": null,
   "id": "1bc66e8f",
   "metadata": {},
   "outputs": [],
   "source": [
    "Now, we are creating our class and keeping the m is constant that is 83.32"
   ]
  },
  {
   "cell_type": "code",
   "execution_count": 68,
   "id": "6d2c1c2c",
   "metadata": {},
   "outputs": [],
   "source": [
    "m=22.07"
   ]
  },
  {
   "cell_type": "code",
   "execution_count": 74,
   "id": "0a55c997",
   "metadata": {},
   "outputs": [],
   "source": [
    "class GDRegressor:\n",
    "    \n",
    "    def __init__(self,learning_rate,epochs): # This is constructer\n",
    "        self.m = 22.07\n",
    "        self.b = -120\n",
    "        self.lr = learning_rate\n",
    "        self.epochs = epochs\n",
    "        \n",
    "    def fit(self,X,y):\n",
    "        # calcualte the b using GD\n",
    "        for i in range(self.epochs):\n",
    "            loss_slope_b = -2 * np.sum(y - self.m*X.ravel() - self.b)\n",
    "            \n",
    "            self.b = self.b - (self.lr * loss_slope_b)\n",
    "            print(loss_slope_b, self.b)\n",
    "        print(self.b)\n",
    "        \n",
    "        \n",
    "    def predict(self,X):\n",
    "        return self.m * X + self.b"
   ]
  },
  {
   "cell_type": "code",
   "execution_count": 78,
   "id": "916c1a07",
   "metadata": {},
   "outputs": [],
   "source": [
    "gd = GDRegressor(0.001,50) # learning_rate,epochs"
   ]
  },
  {
   "cell_type": "code",
   "execution_count": 79,
   "id": "fb9c36f3",
   "metadata": {},
   "outputs": [
    {
     "name": "stdout",
     "output_type": "stream",
     "text": [
      "-24562.609724154074 -95.43739027584593\n",
      "-19650.087779323265 -75.78730249652267\n",
      "-15720.07022345861 -60.067232273064064\n",
      "-12576.056178766885 -47.49117609429718\n",
      "-10060.844943013512 -37.43033115128367\n",
      "-8048.675954410808 -29.38165519687286\n",
      "-6438.940763528648 -22.94271443334421\n",
      "-5151.152610822918 -17.79156182252129\n",
      "-4120.922088658334 -13.670639733862957\n",
      "-3296.737670926667 -10.37390206293629\n",
      "-2637.390136741333 -7.736511926194957\n",
      "-2109.912109393067 -5.626599816801891\n",
      "-1687.9296875144532 -3.9386701292874373\n",
      "-1350.3437500115626 -2.5883263792758746\n",
      "-1080.27500000925 -1.5080513792666246\n",
      "-864.2200000074001 -0.6438313792592244\n",
      "-691.37600000592 0.04754462074669563\n",
      "-553.1008000047361 0.6006454207514318\n",
      "-442.4806400037889 1.0431260607552206\n",
      "-353.98451200303117 1.3971105727582518\n",
      "-283.18760960242486 1.6802981823606766\n",
      "-226.5500876819398 1.9068482700426164\n",
      "-181.24007014555207 2.0880883401881682\n",
      "-144.99205611644155 2.2330803963046097\n",
      "-115.99364489315326 2.349074041197763\n",
      "-92.79491591452259 2.4418689571122854\n",
      "-74.23593273161816 2.5161048898439033\n",
      "-59.388746185294565 2.575493636029198\n",
      "-47.510996948235544 2.6230046329774335\n",
      "-38.00879755858847 2.661013430536022\n",
      "-30.40703804687071 2.691420468582893\n",
      "-24.325630437496716 2.7157460990203894\n",
      "-19.4605043499972 2.735206603370387\n",
      "-15.568403479997983 2.7507750068503847\n",
      "-12.454722783998353 2.763229729634383\n",
      "-9.963778227198702 2.7731935078615817\n",
      "-7.971022581758831 2.7811645304433403\n",
      "-6.376818065407072 2.7875413485087472\n",
      "-5.101454452325868 2.792642802961073\n",
      "-4.0811635618605635 2.7967239665229338\n",
      "-3.2649308494885645 2.7999888973724225\n",
      "-2.6119446795907564 2.8026008420520134\n",
      "-2.0895557436724808 2.804690397795686\n",
      "-1.6716445949379306 2.806362042390624\n",
      "-1.3373156759503857 2.807699358066574\n",
      "-1.0698525407603157 2.8087692106073345\n",
      "-0.855882032608207 2.809625092639943\n",
      "-0.6847056260867141 2.8103097982660294\n",
      "-0.5477645008691994 2.810857562766899\n",
      "-0.4382116006955812 2.8112957743675944\n",
      "2.8112957743675944\n"
     ]
    }
   ],
   "source": [
    "gd.fit(x,y)"
   ]
  },
  {
   "cell_type": "code",
   "execution_count": null,
   "id": "68858bae",
   "metadata": {},
   "outputs": [],
   "source": []
  }
 ],
 "metadata": {
  "kernelspec": {
   "display_name": "Python 3 (ipykernel)",
   "language": "python",
   "name": "python3"
  },
  "language_info": {
   "codemirror_mode": {
    "name": "ipython",
    "version": 3
   },
   "file_extension": ".py",
   "mimetype": "text/x-python",
   "name": "python",
   "nbconvert_exporter": "python",
   "pygments_lexer": "ipython3",
   "version": "3.10.9"
  }
 },
 "nbformat": 4,
 "nbformat_minor": 5
}
